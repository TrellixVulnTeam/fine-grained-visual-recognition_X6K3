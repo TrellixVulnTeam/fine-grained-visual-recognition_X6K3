{
 "cells": [
  {
   "cell_type": "markdown",
   "id": "90e612bd-76cb-49e5-973f-4b312a0c0476",
   "metadata": {},
   "source": [
    "# 01 - Danish Fungi - Resize Images"
   ]
  },
  {
   "cell_type": "code",
   "execution_count": 1,
   "id": "f33bcc9d-1a7d-470b-b032-1662352a8d37",
   "metadata": {},
   "outputs": [],
   "source": [
    "import os\n",
    "\n",
    "os.chdir('..')"
   ]
  },
  {
   "cell_type": "code",
   "execution_count": 2,
   "id": "02903724-ab2b-4777-9435-e3212378950d",
   "metadata": {},
   "outputs": [],
   "source": [
    "import math\n",
    "import os\n",
    "\n",
    "import numpy as np\n",
    "import pandas as pd\n",
    "\n",
    "import PIL\n",
    "from PIL import ImageFile\n",
    "\n",
    "ImageFile.LOAD_TRUNCATED_IMAGES = True\n",
    "\n",
    "\n",
    "def get_smaller_size(h, w, min_size=500):\n",
    "    if h < min_size and w < min_size:\n",
    "        new_h, new_w = h, w\n",
    "    else:\n",
    "        if min(h, w) > min_size:\n",
    "            mag = min_size / min(h, w)\n",
    "        else:\n",
    "            mag = min_size / max(h, w)\n",
    "        new_h = math.floor(h * mag + 1e-8)\n",
    "        new_w = math.floor(w * mag + 1e-8)\n",
    "    return new_h, new_w\n",
    "\n",
    "\n",
    "DATA_DIR = 'data/danish_fungi_dataset/'\n",
    "TRAIN_SET_DIR = 'train'\n",
    "TRAIN_SET_RESIZED_DIR = 'train_resized'"
   ]
  },
  {
   "cell_type": "code",
   "execution_count": 3,
   "id": "d3d8f0d2-641b-4711-90d6-849917e4e40b",
   "metadata": {},
   "outputs": [],
   "source": [
    "# load metadata\n",
    "train_df = pd.read_csv(DATA_DIR + 'DF20-train_metadata_PROD.csv')\n",
    "# train_mini_df = pd.read_csv(DATA_DIR + 'DF20M-train_metadata_PROD.csv')"
   ]
  },
  {
   "cell_type": "markdown",
   "id": "2e691bd8-9f8a-402c-9210-9989d4dff3d4",
   "metadata": {},
   "source": [
    "## Example of Resize Method"
   ]
  },
  {
   "cell_type": "code",
   "execution_count": 4,
   "id": "940e5abc-228d-4b81-9508-e59f39ea9565",
   "metadata": {},
   "outputs": [
    {
     "data": {
      "text/plain": [
       "array([[1024, 1280],\n",
       "       [1200,  899],\n",
       "       [1000, 1333],\n",
       "       [ 800,  600],\n",
       "       [ 800, 1066],\n",
       "       [3024, 4032],\n",
       "       [ 347,  533],\n",
       "       [1200, 1600],\n",
       "       [1200,  675],\n",
       "       [4032, 2268],\n",
       "       [ 325,  365],\n",
       "       [3264, 2448],\n",
       "       [ 793, 1024],\n",
       "       [1033, 1800],\n",
       "       [1050, 1400],\n",
       "       [ 638,  850],\n",
       "       [ 533,  800],\n",
       "       [3024, 4032],\n",
       "       [ 932, 1500],\n",
       "       [1200, 1600]])"
      ]
     },
     "execution_count": 4,
     "metadata": {},
     "output_type": "execute_result"
    }
   ],
   "source": [
    "# show example of iamge sizes\n",
    "fungi_img_sizes = []\n",
    "for x in train_df['image_path'].sample(20):\n",
    "    path = os.path.join(DATA_DIR, TRAIN_SET_DIR, x)\n",
    "    img = PIL.Image.open(path).convert('RGB')\n",
    "    w, h = img.size\n",
    "    fungi_img_sizes.append((h, w))\n",
    "fungi_img_sizes = np.array(fungi_img_sizes)\n",
    "\n",
    "fungi_img_sizes"
   ]
  },
  {
   "cell_type": "code",
   "execution_count": 5,
   "id": "c9fa791c-6cc7-4de6-8efb-3e2eedeb4c21",
   "metadata": {},
   "outputs": [
    {
     "data": {
      "text/plain": [
       "array([[500, 625],\n",
       "       [667, 499],\n",
       "       [500, 666],\n",
       "       [666, 500],\n",
       "       [500, 666],\n",
       "       [500, 666],\n",
       "       [325, 500],\n",
       "       [500, 666],\n",
       "       [888, 500],\n",
       "       [888, 500],\n",
       "       [325, 365],\n",
       "       [666, 500],\n",
       "       [500, 645],\n",
       "       [500, 871],\n",
       "       [500, 666],\n",
       "       [500, 666],\n",
       "       [500, 750],\n",
       "       [500, 666],\n",
       "       [499, 804],\n",
       "       [500, 666]])"
      ]
     },
     "execution_count": 5,
     "metadata": {},
     "output_type": "execute_result"
    }
   ],
   "source": [
    "# show resized dimensions\n",
    "np.array([get_smaller_size(h, w) for h, w in fungi_img_sizes])"
   ]
  },
  {
   "cell_type": "markdown",
   "id": "dbb7704d-816e-4d76-8ca3-af88e243eaf2",
   "metadata": {},
   "source": [
    "## Resize Dataset"
   ]
  },
  {
   "cell_type": "code",
   "execution_count": null,
   "id": "96922db1-53e0-4f56-a7f7-53b0a2604f73",
   "metadata": {},
   "outputs": [],
   "source": [
    "from shutil import copyfile\n",
    "from tqdm import tqdm\n",
    "\n",
    "\n",
    "img_dir = os.path.join(DATA_DIR, TRAIN_SET_DIR)\n",
    "resized_img_dir = os.path.join(DATA_DIR, TRAIN_SET_RESIZED_DIR)\n",
    "imgs = pd.Series(os.listdir(img_dir))\n",
    "resized_imgs = os.listdir(resized_img_dir)\n",
    "imgs_todo = imgs[~imgs.isin(resized_imgs)]\n",
    "\n",
    "for name in tqdm(imgs_todo):\n",
    "    if name not in resized_imgs:\n",
    "        src = os.path.join(img_dir, name)\n",
    "        dst = os.path.join(resized_img_dir, name)\n",
    "        try:\n",
    "            img = PIL.Image.open(src).convert('RGB')\n",
    "            w, h = img.size\n",
    "            img = img.resize(get_smaller_size(w, h))\n",
    "            img.save(dst)\n",
    "        except Exception as e:\n",
    "            print(e)\n",
    "            copyfile(src, dst)"
   ]
  },
  {
   "cell_type": "code",
   "execution_count": null,
   "id": "58d22727-ffbe-47fc-adeb-eb38d8556609",
   "metadata": {},
   "outputs": [],
   "source": []
  }
 ],
 "metadata": {
  "kernelspec": {
   "display_name": "Python 3 (ipykernel)",
   "language": "python",
   "name": "python3"
  },
  "language_info": {
   "codemirror_mode": {
    "name": "ipython",
    "version": 3
   },
   "file_extension": ".py",
   "mimetype": "text/x-python",
   "name": "python",
   "nbconvert_exporter": "python",
   "pygments_lexer": "ipython3",
   "version": "3.8.8"
  }
 },
 "nbformat": 4,
 "nbformat_minor": 5
}
