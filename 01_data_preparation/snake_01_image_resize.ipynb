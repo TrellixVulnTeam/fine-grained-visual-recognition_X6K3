{
 "cells": [
  {
   "cell_type": "markdown",
   "id": "90e612bd-76cb-49e5-973f-4b312a0c0476",
   "metadata": {},
   "source": [
    "# 01 - SnakeCLEF - Resizing Images in the Test Set"
   ]
  },
  {
   "cell_type": "code",
   "execution_count": 1,
   "id": "f33bcc9d-1a7d-470b-b032-1662352a8d37",
   "metadata": {},
   "outputs": [],
   "source": [
    "import os\n",
    "\n",
    "os.chdir('..')"
   ]
  },
  {
   "cell_type": "code",
   "execution_count": 2,
   "id": "02903724-ab2b-4777-9435-e3212378950d",
   "metadata": {},
   "outputs": [],
   "source": [
    "import math\n",
    "import os\n",
    "\n",
    "import numpy as np\n",
    "import pandas as pd\n",
    "\n",
    "import PIL\n",
    "from PIL import ImageFile\n",
    "\n",
    "ImageFile.LOAD_TRUNCATED_IMAGES = True\n",
    "\n",
    "\n",
    "def get_smaller_size(h, w, min_size=500):\n",
    "    if h < min_size and w < min_size:\n",
    "        new_h, new_w = h, w\n",
    "    else:\n",
    "        if min(h, w) > min_size:\n",
    "            mag = min_size / min(h, w)\n",
    "        else:\n",
    "            mag = min_size / max(h, w)\n",
    "        new_h = math.floor(h * mag + 1e-8)\n",
    "        new_w = math.floor(w * mag + 1e-8)\n",
    "    return new_h, new_w\n",
    "\n",
    "\n",
    "DATA_DIR = 'data/snake_clef2021_dataset/'\n",
    "TRAIN_SET_DIR = 'train'"
   ]
  },
  {
   "cell_type": "code",
   "execution_count": 3,
   "id": "d3d8f0d2-641b-4711-90d6-849917e4e40b",
   "metadata": {},
   "outputs": [],
   "source": [
    "# load metadata\n",
    "# train_df = pd.read_csv(DATA_DIR + 'DF20-train_metadata_PROD.csv')\n",
    "# train_mini_df = pd.read_csv(DATA_DIR + 'DF20M-train_metadata_PROD.csv')\n",
    "valid_df = pd.read_csv(DATA_DIR + 'SnakeCLEF2021_test_metadata_cleaned.csv')"
   ]
  },
  {
   "cell_type": "markdown",
   "id": "d81b7c04-2192-4a39-9985-af0114ad1f31",
   "metadata": {},
   "source": [
    "## Example of Resize Method"
   ]
  },
  {
   "cell_type": "code",
   "execution_count": 4,
   "id": "940e5abc-228d-4b81-9508-e59f39ea9565",
   "metadata": {},
   "outputs": [
    {
     "data": {
      "text/plain": [
       "array([[281, 500],\n",
       "       [500, 666],\n",
       "       [500, 743],\n",
       "       [500, 751],\n",
       "       [386, 500],\n",
       "       [500, 749],\n",
       "       [500, 751],\n",
       "       [500, 749],\n",
       "       [500, 666],\n",
       "       [375, 500],\n",
       "       [500, 749],\n",
       "       [746, 500],\n",
       "       [500, 749],\n",
       "       [500, 699],\n",
       "       [500, 757],\n",
       "       [500, 699],\n",
       "       [500, 716],\n",
       "       [500, 750],\n",
       "       [500, 888],\n",
       "       [500, 749]])"
      ]
     },
     "execution_count": 4,
     "metadata": {},
     "output_type": "execute_result"
    }
   ],
   "source": [
    "# show example of iamge sizes\n",
    "img_size = []\n",
    "for x in valid_df['image_path'].sample(20):\n",
    "    path = os.path.join(DATA_DIR, TRAIN_SET_DIR, x)\n",
    "    img = PIL.Image.open(path).convert('RGB')\n",
    "    w, h = img.size\n",
    "    img_size.append((h, w))\n",
    "img_size = np.array(img_size)\n",
    "\n",
    "img_size"
   ]
  },
  {
   "cell_type": "code",
   "execution_count": 5,
   "id": "c9fa791c-6cc7-4de6-8efb-3e2eedeb4c21",
   "metadata": {},
   "outputs": [
    {
     "data": {
      "text/plain": [
       "array([[281, 500],\n",
       "       [375, 500],\n",
       "       [336, 500],\n",
       "       [332, 500],\n",
       "       [386, 500],\n",
       "       [333, 500],\n",
       "       [332, 500],\n",
       "       [333, 500],\n",
       "       [375, 500],\n",
       "       [375, 500],\n",
       "       [333, 500],\n",
       "       [500, 335],\n",
       "       [333, 500],\n",
       "       [357, 500],\n",
       "       [330, 500],\n",
       "       [357, 500],\n",
       "       [349, 500],\n",
       "       [333, 500],\n",
       "       [281, 500],\n",
       "       [333, 500]])"
      ]
     },
     "execution_count": 5,
     "metadata": {},
     "output_type": "execute_result"
    }
   ],
   "source": [
    "# show resized dimensions\n",
    "np.array([get_smaller_size(h, w) for h, w in img_size])"
   ]
  },
  {
   "cell_type": "markdown",
   "id": "d271721a-e6a9-492d-a596-88ec6ef6c08e",
   "metadata": {},
   "source": [
    "## Resize Dataset"
   ]
  },
  {
   "cell_type": "code",
   "execution_count": null,
   "id": "96922db1-53e0-4f56-a7f7-53b0a2604f73",
   "metadata": {},
   "outputs": [],
   "source": [
    "from shutil import copyfile\n",
    "from tqdm import tqdm\n",
    "\n",
    "\n",
    "img_dir = os.path.join(DATA_DIR, TRAIN_SET_DIR + '/test')\n",
    "resized_img_dir = os.path.join(DATA_DIR, TRAIN_SET_DIR + '/test_resized')\n",
    "imgs = pd.Series(os.listdir(img_dir))\n",
    "resized_imgs = os.listdir(resized_img_dir)\n",
    "imgs_todo = imgs[~imgs.isin(resized_imgs)]\n",
    "\n",
    "for name in tqdm(imgs_todo):\n",
    "    if name not in resized_imgs:\n",
    "        src = os.path.join(img_dir, name)\n",
    "        dst = os.path.join(resized_img_dir, name)\n",
    "        try:\n",
    "            img = PIL.Image.open(src).convert('RGB')\n",
    "            w, h = img.size\n",
    "            img = img.resize(get_smaller_size(w, h))\n",
    "            img.save(dst)\n",
    "        except Exception as e:\n",
    "            print(e)\n",
    "            copyfile(src, dst)"
   ]
  },
  {
   "cell_type": "code",
   "execution_count": null,
   "id": "58d22727-ffbe-47fc-adeb-eb38d8556609",
   "metadata": {},
   "outputs": [],
   "source": []
  }
 ],
 "metadata": {
  "kernelspec": {
   "display_name": "Python 3 (ipykernel)",
   "language": "python",
   "name": "python3"
  },
  "language_info": {
   "codemirror_mode": {
    "name": "ipython",
    "version": 3
   },
   "file_extension": ".py",
   "mimetype": "text/x-python",
   "name": "python",
   "nbconvert_exporter": "python",
   "pygments_lexer": "ipython3",
   "version": "3.8.8"
  }
 },
 "nbformat": 4,
 "nbformat_minor": 5
}
