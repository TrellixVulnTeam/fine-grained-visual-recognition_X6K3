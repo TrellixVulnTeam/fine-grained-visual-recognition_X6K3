{
 "cells": [
  {
   "cell_type": "markdown",
   "id": "89f76b88-11a2-474e-9bad-1eb91126fe93",
   "metadata": {},
   "source": [
    "# 01 - Adjusting Predictions Using Country (SnakeCLEF)"
   ]
  },
  {
   "cell_type": "code",
   "execution_count": 1,
   "id": "dae26dad-ca57-4a92-a31b-3f8968861855",
   "metadata": {},
   "outputs": [],
   "source": [
    "import os\n",
    "\n",
    "os.chdir('..')"
   ]
  },
  {
   "cell_type": "code",
   "execution_count": 2,
   "id": "910335a3-ef29-4274-a7a9-5629d60cb60a",
   "metadata": {},
   "outputs": [],
   "source": [
    "import numpy as np\n",
    "import pandas as pd\n",
    "import matplotlib.pyplot as plt\n",
    "\n",
    "from src.core import training, metrics\n",
    "from src.utils import io\n",
    "\n",
    "PREDICTIONS_DIR = 'predictions/'\n",
    "DATA_DIR = 'data/snake_clef2021_dataset/'\n",
    "\n",
    "PRED_FILES = {\n",
    "    'EfficientNet-B0': 'snake_full_efficientnet_b0_pred.npy',\n",
    "    'ViT-Base-224': 'snake_full_vit_base_224_pred.npy',\n",
    "\n",
    "    'EfficientNet-B4': 'snake_full_efficientnet_b4_pred.npy',\n",
    "    'NoisyStudent-B4': 'snake_full_efficientnet_b4_ns_pred.npy',\n",
    "    'EfficientNetV2-S': 'snake_full_efficientnetv2_s_pred.npy',\n",
    "\n",
    "    'ViT-Base-384': 'snake_full_vit_base_384_pred.npy',\n",
    "    'DeiT-Base-384': 'snake_full_deit_base_384_pred.npy',\n",
    "    'BEiT-Base-384': 'snake_full_beit_base_384_pred.npy',\n",
    "\n",
    "    'ViT-Large-384': 'snake_full_vit_large_384_pred.npy'}\n",
    "TARG_FILE = 'snake_full_targ.npy'"
   ]
  },
  {
   "cell_type": "markdown",
   "id": "6b74bccd-1197-46e8-b8c8-0c3b58afd602",
   "metadata": {},
   "source": [
    "## Load the Data"
   ]
  },
  {
   "cell_type": "code",
   "execution_count": 3,
   "id": "af30ff0e-9d26-498e-abfb-16d734a4658a",
   "metadata": {},
   "outputs": [
    {
     "name": "stdout",
     "output_type": "stream",
     "text": [
      "No classes: 770\n",
      "Test set length: 26,227\n"
     ]
    }
   ],
   "source": [
    "# load metadata\n",
    "valid_df = pd.read_csv(DATA_DIR + 'SnakeCLEF2021_test_metadata_cleaned.csv')\n",
    "\n",
    "classes = np.unique(valid_df['binomial'])\n",
    "no_classes = len(classes)\n",
    "print(f'No classes: {no_classes}')\n",
    "print(f'Test set length: {len(valid_df):,d}')"
   ]
  },
  {
   "cell_type": "code",
   "execution_count": 4,
   "id": "d4177db4-6e75-4aa9-bc87-fe28642ed8db",
   "metadata": {},
   "outputs": [],
   "source": [
    "species = np.unique(valid_df['binomial'])\n",
    "countries = np.unique(valid_df['country'].fillna('unknown'))\n",
    "\n",
    "# load country-species map and create country f1 score metric\n",
    "country_map_df = pd.read_csv(DATA_DIR + 'species_to_country_mapping.csv', index_col=0)\n",
    "country_weights = metrics.clean_country_map(country_map_df, species, missing_val=0)\n",
    "country_f1_score = metrics.CountryF1Score(country_weights)\n",
    "\n",
    "# create country-species weight for adjusting predictions\n",
    "country_lut = io.read_json(DATA_DIR + 'country_lut.json')\n",
    "country_weights_adj = metrics.clean_country_map(\n",
    "    country_map_df.rename(columns=country_lut), species, countries, missing_val=1)"
   ]
  },
  {
   "cell_type": "markdown",
   "id": "28eceea0-7619-45ed-82a3-5c135f2e6204",
   "metadata": {},
   "source": [
    "## Compute Predictions"
   ]
  },
  {
   "cell_type": "code",
   "execution_count": 6,
   "id": "df55d7da-0be8-4d3a-ad36-a10c650a8cbc",
   "metadata": {},
   "outputs": [],
   "source": [
    "if not os.path.isdir(PREDICTIONS_DIR):\n",
    "    os.mkdir(PREDICTIONS_DIR)\n",
    "\n",
    "# compute predictions\n",
    "if not all([os.path.isfile(PREDICTIONS_DIR + x) for x in PRED_FILES.values()]):\n",
    "    !sh test_snake.sh"
   ]
  },
  {
   "cell_type": "markdown",
   "id": "562216d6-f4e1-4ab2-aa94-4a01654d6e92",
   "metadata": {},
   "source": [
    "## Load Predictions"
   ]
  },
  {
   "cell_type": "code",
   "execution_count": 7,
   "id": "352db243-74c7-4198-9cfa-570635688d5f",
   "metadata": {},
   "outputs": [
    {
     "name": "stderr",
     "output_type": "stream",
     "text": [
      "100%|██████████| 9/9 [01:33<00:00, 10.42s/it]\n"
     ]
    }
   ],
   "source": [
    "from tqdm import tqdm\n",
    "\n",
    "def get_scores(pred, targ):\n",
    "    scores = training.classification_scores(pred, targ)\n",
    "    scores['country_f1_score'] = country_f1_score(pred.argmax(1), targ)\n",
    "    return scores\n",
    "\n",
    "\n",
    "# load target file\n",
    "targ = np.load(PREDICTIONS_DIR + TARG_FILE)\n",
    "\n",
    "# load prediction file of each model and compute scores\n",
    "scores_dict = {}\n",
    "adj_scores_dict = {}\n",
    "for model_name, pred_file in tqdm(PRED_FILES.items()):\n",
    "    # load prediction file\n",
    "    pred = np.load(PREDICTIONS_DIR + pred_file)\n",
    "\n",
    "    # adjust predictions using country\n",
    "    _df = valid_df.copy()\n",
    "    _df['country'] = _df['country'].fillna('unknown')\n",
    "    bin_map = country_weights_adj.loc[:, _df['country']].values.T\n",
    "    pred_adj = pred * bin_map\n",
    "\n",
    "    # compute scores\n",
    "    scores_dict[model_name] = get_scores(pred, targ)\n",
    "    adj_scores_dict[model_name] = get_scores(pred_adj, targ)"
   ]
  },
  {
   "cell_type": "markdown",
   "id": "476f544e-1926-46a2-9a81-5e2b1aea06d4",
   "metadata": {},
   "source": [
    "## Evaluate Scores"
   ]
  },
  {
   "cell_type": "code",
   "execution_count": 8,
   "id": "71486341-500f-43a1-827b-68e7d460fbfb",
   "metadata": {},
   "outputs": [],
   "source": [
    "scores_df = pd.DataFrame.from_dict(scores_dict, orient='index')\n",
    "scores_df.columns = pd.MultiIndex.from_product([scores_df.columns, ['Original']])\n",
    "adj_scores_df = pd.DataFrame.from_dict(adj_scores_dict, orient='index')\n",
    "adj_scores_df.columns = pd.MultiIndex.from_product([adj_scores_df.columns, ['Adjusted']])\n",
    "\n",
    "eval_df = pd.concat([scores_df, adj_scores_df], axis=1)\n",
    "for met in ['accuracy', 'top_3', 'f1_score']:\n",
    "    eval_df[met, 'Diff'] = eval_df[met, 'Adjusted'] - eval_df[met, 'Original']"
   ]
  },
  {
   "cell_type": "code",
   "execution_count": 9,
   "id": "9a92191f-3605-47d5-ad83-716ec16259e9",
   "metadata": {},
   "outputs": [
    {
     "data": {
      "text/html": [
       "<div>\n",
       "<style scoped>\n",
       "    .dataframe tbody tr th:only-of-type {\n",
       "        vertical-align: middle;\n",
       "    }\n",
       "\n",
       "    .dataframe tbody tr th {\n",
       "        vertical-align: top;\n",
       "    }\n",
       "\n",
       "    .dataframe thead tr th {\n",
       "        text-align: left;\n",
       "    }\n",
       "</style>\n",
       "<table border=\"1\" class=\"dataframe\">\n",
       "  <thead>\n",
       "    <tr>\n",
       "      <th></th>\n",
       "      <th colspan=\"3\" halign=\"left\">accuracy</th>\n",
       "      <th colspan=\"3\" halign=\"left\">top_3</th>\n",
       "      <th colspan=\"3\" halign=\"left\">f1_score</th>\n",
       "    </tr>\n",
       "    <tr>\n",
       "      <th></th>\n",
       "      <th>Original</th>\n",
       "      <th>Adjusted</th>\n",
       "      <th>Diff</th>\n",
       "      <th>Original</th>\n",
       "      <th>Adjusted</th>\n",
       "      <th>Diff</th>\n",
       "      <th>Original</th>\n",
       "      <th>Adjusted</th>\n",
       "      <th>Diff</th>\n",
       "    </tr>\n",
       "  </thead>\n",
       "  <tbody>\n",
       "    <tr>\n",
       "      <th>EfficientNet-B0</th>\n",
       "      <td>85.1</td>\n",
       "      <td>88.0</td>\n",
       "      <td>+2.9</td>\n",
       "      <td>94.2</td>\n",
       "      <td>95.4</td>\n",
       "      <td>+1.2</td>\n",
       "      <td>70.6</td>\n",
       "      <td>75.9</td>\n",
       "      <td>+5.3</td>\n",
       "    </tr>\n",
       "    <tr>\n",
       "      <th>ViT-Base-224</th>\n",
       "      <td>87.5</td>\n",
       "      <td>88.6</td>\n",
       "      <td>+1.0</td>\n",
       "      <td>94.3</td>\n",
       "      <td>96.5</td>\n",
       "      <td>+2.2</td>\n",
       "      <td>75.5</td>\n",
       "      <td>79.1</td>\n",
       "      <td>+3.6</td>\n",
       "    </tr>\n",
       "    <tr>\n",
       "      <th>EfficientNet-B4</th>\n",
       "      <td>91.4</td>\n",
       "      <td>92.2</td>\n",
       "      <td>+0.8</td>\n",
       "      <td>96.9</td>\n",
       "      <td>97.2</td>\n",
       "      <td>+0.3</td>\n",
       "      <td>80.2</td>\n",
       "      <td>82.5</td>\n",
       "      <td>+2.3</td>\n",
       "    </tr>\n",
       "    <tr>\n",
       "      <th>NoisyStudent-B4</th>\n",
       "      <td>91.7</td>\n",
       "      <td>92.6</td>\n",
       "      <td>+0.9</td>\n",
       "      <td>97.4</td>\n",
       "      <td>97.5</td>\n",
       "      <td>+0.1</td>\n",
       "      <td>81.0</td>\n",
       "      <td>83.5</td>\n",
       "      <td>+2.5</td>\n",
       "    </tr>\n",
       "    <tr>\n",
       "      <th>EfficientNetV2-S</th>\n",
       "      <td>91.6</td>\n",
       "      <td>92.6</td>\n",
       "      <td>+1.0</td>\n",
       "      <td>96.0</td>\n",
       "      <td>97.0</td>\n",
       "      <td>+1.0</td>\n",
       "      <td>81.3</td>\n",
       "      <td>84.0</td>\n",
       "      <td>+2.8</td>\n",
       "    </tr>\n",
       "    <tr>\n",
       "      <th>ViT-Base-384</th>\n",
       "      <td>91.7</td>\n",
       "      <td>92.9</td>\n",
       "      <td>+1.2</td>\n",
       "      <td>97.3</td>\n",
       "      <td>97.5</td>\n",
       "      <td>+0.2</td>\n",
       "      <td>82.0</td>\n",
       "      <td>84.6</td>\n",
       "      <td>+2.6</td>\n",
       "    </tr>\n",
       "    <tr>\n",
       "      <th>DeiT-Base-384</th>\n",
       "      <td>90.6</td>\n",
       "      <td>91.7</td>\n",
       "      <td>+1.0</td>\n",
       "      <td>96.7</td>\n",
       "      <td>97.2</td>\n",
       "      <td>+0.5</td>\n",
       "      <td>81.2</td>\n",
       "      <td>83.8</td>\n",
       "      <td>+2.6</td>\n",
       "    </tr>\n",
       "    <tr>\n",
       "      <th>BEiT-Base-384</th>\n",
       "      <td>93.7</td>\n",
       "      <td>93.9</td>\n",
       "      <td>+0.2</td>\n",
       "      <td>97.8</td>\n",
       "      <td>97.7</td>\n",
       "      <td>+-0.2</td>\n",
       "      <td>84.6</td>\n",
       "      <td>85.8</td>\n",
       "      <td>+1.2</td>\n",
       "    </tr>\n",
       "    <tr>\n",
       "      <th>ViT-Large-384</th>\n",
       "      <td>92.0</td>\n",
       "      <td>92.6</td>\n",
       "      <td>+0.6</td>\n",
       "      <td>97.5</td>\n",
       "      <td>97.6</td>\n",
       "      <td>+0.0</td>\n",
       "      <td>82.9</td>\n",
       "      <td>84.9</td>\n",
       "      <td>+2.0</td>\n",
       "    </tr>\n",
       "  </tbody>\n",
       "</table>\n",
       "</div>"
      ],
      "text/plain": [
       "                 accuracy                   top_3                 f1_score  \\\n",
       "                 Original Adjusted  Diff Original Adjusted   Diff Original   \n",
       "EfficientNet-B0      85.1     88.0  +2.9     94.2     95.4   +1.2     70.6   \n",
       "ViT-Base-224         87.5     88.6  +1.0     94.3     96.5   +2.2     75.5   \n",
       "EfficientNet-B4      91.4     92.2  +0.8     96.9     97.2   +0.3     80.2   \n",
       "NoisyStudent-B4      91.7     92.6  +0.9     97.4     97.5   +0.1     81.0   \n",
       "EfficientNetV2-S     91.6     92.6  +1.0     96.0     97.0   +1.0     81.3   \n",
       "ViT-Base-384         91.7     92.9  +1.2     97.3     97.5   +0.2     82.0   \n",
       "DeiT-Base-384        90.6     91.7  +1.0     96.7     97.2   +0.5     81.2   \n",
       "BEiT-Base-384        93.7     93.9  +0.2     97.8     97.7  +-0.2     84.6   \n",
       "ViT-Large-384        92.0     92.6  +0.6     97.5     97.6   +0.0     82.9   \n",
       "\n",
       "                                 \n",
       "                 Adjusted  Diff  \n",
       "EfficientNet-B0      75.9  +5.3  \n",
       "ViT-Base-224         79.1  +3.6  \n",
       "EfficientNet-B4      82.5  +2.3  \n",
       "NoisyStudent-B4      83.5  +2.5  \n",
       "EfficientNetV2-S     84.0  +2.8  \n",
       "ViT-Base-384         84.6  +2.6  \n",
       "DeiT-Base-384        83.8  +2.6  \n",
       "BEiT-Base-384        85.8  +1.2  \n",
       "ViT-Large-384        84.9  +2.0  "
      ]
     },
     "execution_count": 9,
     "metadata": {},
     "output_type": "execute_result"
    }
   ],
   "source": [
    "_df = eval_df[['accuracy', 'top_3', 'f1_score']].round(3) * 100\n",
    "for met in ['accuracy', 'top_3', 'f1_score']:\n",
    "    _df[met, 'Diff'] = '+' + _df[met, 'Diff'].round(1).fillna('').astype(str).replace('+', np.nan)\n",
    "_df"
   ]
  },
  {
   "cell_type": "code",
   "execution_count": null,
   "id": "15561835-539c-4e04-96ad-e35318a35def",
   "metadata": {},
   "outputs": [],
   "source": []
  }
 ],
 "metadata": {
  "kernelspec": {
   "display_name": "Python 3 (ipykernel)",
   "language": "python",
   "name": "python3"
  },
  "language_info": {
   "codemirror_mode": {
    "name": "ipython",
    "version": 3
   },
   "file_extension": ".py",
   "mimetype": "text/x-python",
   "name": "python",
   "nbconvert_exporter": "python",
   "pygments_lexer": "ipython3",
   "version": "3.8.8"
  }
 },
 "nbformat": 4,
 "nbformat_minor": 5
}
