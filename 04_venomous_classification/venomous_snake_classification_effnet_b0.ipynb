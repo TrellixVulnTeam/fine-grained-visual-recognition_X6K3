{
 "cells": [
  {
   "cell_type": "markdown",
   "metadata": {},
   "source": [
    "# Venomous/non-venomous Snake Classification (EfficientNet-B0)"
   ]
  },
  {
   "cell_type": "code",
   "execution_count": 1,
   "metadata": {},
   "outputs": [],
   "source": [
    "import os\n",
    "\n",
    "os.chdir('..')"
   ]
  },
  {
   "cell_type": "code",
   "execution_count": 2,
   "metadata": {},
   "outputs": [
    {
     "name": "stdout",
     "output_type": "stream",
     "text": [
      "Device: cpu\n"
     ]
    }
   ],
   "source": [
    "import numpy as np\n",
    "import pandas as pd\n",
    "import matplotlib.pyplot as plt\n",
    "\n",
    "import torch\n",
    "\n",
    "from src.core import models, metrics, training, data, loss_functions\n",
    "from src.special import calibration\n",
    "from src.utils import nb_setup, io\n",
    "\n",
    "PREDICTIONS_DIR = 'predictions/'\n",
    "DATA_DIR = 'data/snake_clef2021_dataset/'\n",
    "TRAIN_SET_DIR = 'train'\n",
    "\n",
    "MODEL_ARCH = 'efficientnet_b0'\n",
    "MODEL_NAME = 'baselines/clef2021_efficientnet_b0_ce_11-29-2021_16-52-38'\n",
    "\n",
    "PRED_FILE = PREDICTIONS_DIR + 'snake_full_efficientnet_b0_pred.npy'\n",
    "TARG_FILE = PREDICTIONS_DIR + 'snake_full_targ.npy'\n",
    "\n",
    "SEED = 42\n",
    "\n",
    "nb_setup.init()\n",
    "nb_setup.set_random_seed(SEED)\n",
    "\n",
    "device = torch.device('cuda' if torch.cuda.is_available() else 'cpu')\n",
    "print(f'Device: {device}')"
   ]
  },
  {
   "cell_type": "markdown",
   "metadata": {},
   "source": [
    "## Load the Data"
   ]
  },
  {
   "cell_type": "code",
   "execution_count": 3,
   "metadata": {},
   "outputs": [
    {
     "name": "stdout",
     "output_type": "stream",
     "text": [
      "No classes: 770\n"
     ]
    }
   ],
   "source": [
    "# load metadata\n",
    "train_df = pd.read_csv(DATA_DIR + 'SnakeCLEF2021_train_metadata_cleaned.csv')\n",
    "test_df = pd.read_csv(DATA_DIR + 'SnakeCLEF2021_test_metadata_cleaned.csv')\n",
    "classes = np.unique(train_df['binomial'])\n",
    "no_classes = len(classes)\n",
    "print(f'No classes: {no_classes}')\n",
    "\n",
    "# load medical importance map\n",
    "mi_map = pd.read_csv(DATA_DIR + 'species_medical_importance.csv')\n",
    "mi_map = mi_map.rename(columns={'species': 'binomial'})\n",
    "mi_map['mivs'] = mi_map['mivs'].replace({0: 'Non-venomous', 1: 'Venomous'})\n",
    "\n",
    "no_classes_overlap = mi_map['binomial'].str.lower().isin(pd.Series(classes).str.lower()).sum()\n",
    "assert no_classes_overlap == no_classes"
   ]
  },
  {
   "cell_type": "code",
   "execution_count": 4,
   "metadata": {},
   "outputs": [
    {
     "data": {
      "text/html": [
       "<div>\n",
       "<style scoped>\n",
       "    .dataframe tbody tr th:only-of-type {\n",
       "        vertical-align: middle;\n",
       "    }\n",
       "\n",
       "    .dataframe tbody tr th {\n",
       "        vertical-align: top;\n",
       "    }\n",
       "\n",
       "    .dataframe thead th {\n",
       "        text-align: right;\n",
       "    }\n",
       "</style>\n",
       "<table border=\"1\" class=\"dataframe\">\n",
       "  <thead>\n",
       "    <tr style=\"text-align: right;\">\n",
       "      <th></th>\n",
       "      <th>binomial</th>\n",
       "      <th>genus</th>\n",
       "      <th>family</th>\n",
       "      <th>mivs</th>\n",
       "    </tr>\n",
       "  </thead>\n",
       "  <tbody>\n",
       "    <tr>\n",
       "      <th>0</th>\n",
       "      <td>Acanthophis antarcticus</td>\n",
       "      <td>Acanthophis</td>\n",
       "      <td>Elapidae</td>\n",
       "      <td>Venomous</td>\n",
       "    </tr>\n",
       "    <tr>\n",
       "      <th>1</th>\n",
       "      <td>Acanthophis cryptamydros</td>\n",
       "      <td>Acanthophis</td>\n",
       "      <td>Elapidae</td>\n",
       "      <td>Venomous</td>\n",
       "    </tr>\n",
       "    <tr>\n",
       "      <th>2</th>\n",
       "      <td>Acanthophis hawkei</td>\n",
       "      <td>Acanthophis</td>\n",
       "      <td>Elapidae</td>\n",
       "      <td>Venomous</td>\n",
       "    </tr>\n",
       "    <tr>\n",
       "      <th>3</th>\n",
       "      <td>Acanthophis laevis</td>\n",
       "      <td>Acanthophis</td>\n",
       "      <td>Elapidae</td>\n",
       "      <td>Venomous</td>\n",
       "    </tr>\n",
       "    <tr>\n",
       "      <th>4</th>\n",
       "      <td>Acanthophis praelongus</td>\n",
       "      <td>Acanthophis</td>\n",
       "      <td>Elapidae</td>\n",
       "      <td>Venomous</td>\n",
       "    </tr>\n",
       "    <tr>\n",
       "      <th>...</th>\n",
       "      <td>...</td>\n",
       "      <td>...</td>\n",
       "      <td>...</td>\n",
       "      <td>...</td>\n",
       "    </tr>\n",
       "    <tr>\n",
       "      <th>3891</th>\n",
       "      <td>Sinonatrix aequifasciata</td>\n",
       "      <td>Sinonatrix</td>\n",
       "      <td>Colubridae</td>\n",
       "      <td>Non-venomous</td>\n",
       "    </tr>\n",
       "    <tr>\n",
       "      <th>3892</th>\n",
       "      <td>Sinonatrix annularis</td>\n",
       "      <td>Sinonatrix</td>\n",
       "      <td>Colubridae</td>\n",
       "      <td>Non-venomous</td>\n",
       "    </tr>\n",
       "    <tr>\n",
       "      <th>3893</th>\n",
       "      <td>Sinonatrix percarinata</td>\n",
       "      <td>Sinonatrix</td>\n",
       "      <td>Colubridae</td>\n",
       "      <td>Non-venomous</td>\n",
       "    </tr>\n",
       "    <tr>\n",
       "      <th>3894</th>\n",
       "      <td>Xenochrophis flavipunctatus</td>\n",
       "      <td>Xenochrophis</td>\n",
       "      <td>Colubridae</td>\n",
       "      <td>Non-venomous</td>\n",
       "    </tr>\n",
       "    <tr>\n",
       "      <th>3895</th>\n",
       "      <td>Xenochrophis piscator</td>\n",
       "      <td>Xenochrophis</td>\n",
       "      <td>Colubridae</td>\n",
       "      <td>Non-venomous</td>\n",
       "    </tr>\n",
       "  </tbody>\n",
       "</table>\n",
       "<p>3896 rows × 4 columns</p>\n",
       "</div>"
      ],
      "text/plain": [
       "                         binomial         genus      family          mivs\n",
       "0         Acanthophis antarcticus   Acanthophis    Elapidae      Venomous\n",
       "1        Acanthophis cryptamydros   Acanthophis    Elapidae      Venomous\n",
       "2              Acanthophis hawkei   Acanthophis    Elapidae      Venomous\n",
       "3              Acanthophis laevis   Acanthophis    Elapidae      Venomous\n",
       "4          Acanthophis praelongus   Acanthophis    Elapidae      Venomous\n",
       "...                           ...           ...         ...           ...\n",
       "3891     Sinonatrix aequifasciata    Sinonatrix  Colubridae  Non-venomous\n",
       "3892         Sinonatrix annularis    Sinonatrix  Colubridae  Non-venomous\n",
       "3893       Sinonatrix percarinata    Sinonatrix  Colubridae  Non-venomous\n",
       "3894  Xenochrophis flavipunctatus  Xenochrophis  Colubridae  Non-venomous\n",
       "3895        Xenochrophis piscator  Xenochrophis  Colubridae  Non-venomous\n",
       "\n",
       "[3896 rows x 4 columns]"
      ]
     },
     "execution_count": 4,
     "metadata": {},
     "output_type": "execute_result"
    }
   ],
   "source": [
    "mi_map"
   ]
  },
  {
   "cell_type": "code",
   "execution_count": 5,
   "metadata": {},
   "outputs": [],
   "source": [
    "# merge information about venomous snakes\n",
    "train_df = train_df.merge(mi_map, 'left', on=['family', 'genus', 'binomial'], validate='many_to_one')\n",
    "train_df['mivs'] = train_df['mivs'].fillna('N/A')"
   ]
  },
  {
   "cell_type": "code",
   "execution_count": 6,
   "metadata": {},
   "outputs": [],
   "source": [
    "species = np.unique(test_df['binomial'])\n",
    "countries = np.unique(test_df['country'].fillna('unknown'))\n",
    "\n",
    "# create country-species weight for adjusting predictions\n",
    "country_map_df = pd.read_csv(DATA_DIR + 'species_to_country_mapping.csv', index_col=0)\n",
    "country_lut = io.read_json(DATA_DIR + 'country_lut.json')\n",
    "country_weights_adj = metrics.clean_country_map(\n",
    "    country_map_df.rename(columns=country_lut), species, countries, missing_val=1)"
   ]
  },
  {
   "cell_type": "code",
   "execution_count": null,
   "metadata": {},
   "outputs": [],
   "source": []
  },
  {
   "cell_type": "markdown",
   "metadata": {},
   "source": [
    "## Run Inference"
   ]
  },
  {
   "cell_type": "code",
   "execution_count": 7,
   "metadata": {},
   "outputs": [],
   "source": [
    "# create model\n",
    "model = models.get_model(MODEL_ARCH, no_classes, pretrained=True)\n",
    "training.load_model(model, MODEL_NAME, path=DATA_DIR + 'models')\n",
    "assert np.all([param.requires_grad for param in model.parameters()])\n",
    "\n",
    "model_config = model.pretrained_config\n",
    "batch_size = 128\n",
    "\n",
    "# create transforms and dataloaders\n",
    "_, valid_tfms = data.get_transforms(\n",
    "    size=model_config['input_size'], mean=model_config['image_mean'],\n",
    "    std=model_config['image_std'])\n",
    "testloader = data.get_dataloader(\n",
    "    test_df, img_path_col='image_path', label_col='binomial',\n",
    "    path=DATA_DIR + TRAIN_SET_DIR, transforms=valid_tfms,\n",
    "    batch_size=batch_size, shuffle=False, num_workers=4)"
   ]
  },
  {
   "cell_type": "code",
   "execution_count": 8,
   "metadata": {},
   "outputs": [],
   "source": [
    "def predict_cached(model, testloader, *, pred_filename, targ_filename):\n",
    "    import os\n",
    "\n",
    "    if os.path.isfile(pred_filename) and os.path.isfile(targ_filename):\n",
    "        pred = np.load(pred_filename)\n",
    "        targ = np.load(targ_filename)\n",
    "    else:\n",
    "        pred, targ, _ = training.predict(model, testloader)\n",
    "        np.save(pred_filename, pred)\n",
    "        np.save(targ_filename, targ)\n",
    "    return pred, targ"
   ]
  },
  {
   "cell_type": "code",
   "execution_count": 9,
   "metadata": {},
   "outputs": [],
   "source": [
    "# create predictions\n",
    "logits, targ = predict_cached(\n",
    "    model, testloader, pred_filename=PRED_FILE, targ_filename=TARG_FILE)"
   ]
  },
  {
   "cell_type": "code",
   "execution_count": 10,
   "metadata": {},
   "outputs": [
    {
     "name": "stdout",
     "output_type": "stream",
     "text": [
      "Validation set length: 2,000\n",
      "Test set length: 24,227\n"
     ]
    }
   ],
   "source": [
    "from sklearn.model_selection import train_test_split\n",
    "\n",
    "test_ids, valid_ids = train_test_split(np.arange(len(test_df)), test_size=2000, random_state=42)  # , stratify=test_df['binomial']\n",
    "print(f'Validation set length: {len(valid_ids):,d}')\n",
    "print(f'Test set length: {len(test_ids):,d}')"
   ]
  },
  {
   "cell_type": "code",
   "execution_count": 11,
   "metadata": {},
   "outputs": [
    {
     "name": "stdout",
     "output_type": "stream",
     "text": [
      "Before temperature - NLL: -22.648\n",
      "Optimal temperature: 1.167\n",
      "After temperature - NLL: -19.402\n"
     ]
    }
   ],
   "source": [
    "def softmax(x, temperature=None):\n",
    "    if temperature is not None:\n",
    "        x = x / temperature\n",
    "    e = np.exp(x - x.max())  # X.max() makes function exp more stable\n",
    "    return e / e.sum(axis=1, keepdims=True)\n",
    "\n",
    "\n",
    "# calibrate predictions\n",
    "temperature = calibration.tune_temperature(logits=logits[valid_ids], targs=targ[valid_ids])\n",
    "\n",
    "# apply softmax function with temperature scaling\n",
    "pred = softmax(logits[test_ids])\n",
    "calib_pred = softmax(logits[test_ids], temperature=temperature)\n",
    "\n",
    "targ = targ[test_ids]\n",
    "test_df = test_df.iloc[test_ids]"
   ]
  },
  {
   "cell_type": "code",
   "execution_count": 12,
   "metadata": {},
   "outputs": [],
   "source": [
    "# adjust predictions using country\n",
    "_df = test_df.copy()\n",
    "_df['country'] = _df['country'].fillna('unknown')\n",
    "bin_map = country_weights_adj.loc[:, _df['country']].values.T\n",
    "pred = pred * bin_map\n",
    "calib_pred = calib_pred * bin_map"
   ]
  },
  {
   "cell_type": "code",
   "execution_count": null,
   "metadata": {},
   "outputs": [],
   "source": []
  },
  {
   "cell_type": "markdown",
   "metadata": {},
   "source": [
    "## Compare Methods 1-3 for Creating Venomous/non-venomous Decision\n",
    "\n",
    "The task is to make decision -> Venomous vs. Non-venomous (i.e. should we apply anti-venom or not)\n",
    "* Method 1 - decision based on the argmax prediction\n",
    "* Method 2 - decision based on the aggregation of predictions for Venomous and Non-venomous snakes\n",
    "* Method 3 - decision based on the weighted aggregation of predictions\n",
    "\n",
    "Methods 1-3 (TS) include classifier callibration."
   ]
  },
  {
   "cell_type": "code",
   "execution_count": 13,
   "metadata": {},
   "outputs": [],
   "source": [
    "def create_targ_df(targ, mi_map, labels, index):\n",
    "    from sklearn.preprocessing import OneHotEncoder\n",
    "\n",
    "    onehot = OneHotEncoder()\n",
    "    targ_onehot = onehot.fit_transform(targ.reshape(-1, 1)).toarray()\n",
    "    targ_df = pd.DataFrame(targ_onehot, columns=labels, index=index)\n",
    "\n",
    "    # create multicolumn with medical importance information\n",
    "    mi_dict = mi_map.set_index('binomial')['mivs'].to_dict()\n",
    "    columns = [(mi_dict.get(col, 'N/A'), col) for col in targ_df.columns]\n",
    "    targ_df.columns = pd.MultiIndex.from_tuples(columns)\n",
    "\n",
    "    return targ_df\n",
    "\n",
    "\n",
    "def create_pred_df(pred, mi_map, labels, index):\n",
    "    pred_df = pd.DataFrame(pred, columns=labels, index=index)\n",
    "\n",
    "    # create multicolumn with medical importance information\n",
    "    mi_dict = mi_map.set_index('binomial')['mivs'].to_dict()\n",
    "    columns = [(mi_dict.get(col, 'N/A'), col) for col in pred_df.columns]\n",
    "    pred_df.columns = pd.MultiIndex.from_tuples(columns)\n",
    "\n",
    "    return pred_df\n",
    "\n",
    "\n",
    "targ_df = create_targ_df(targ, mi_map, labels=testloader.dataset.labels, index=test_df.index)\n",
    "pred_df = create_pred_df(pred, mi_map, labels=testloader.dataset.labels, index=test_df.index)\n",
    "calib_pred_df = create_pred_df(calib_pred, mi_map, labels=testloader.dataset.labels, index=test_df.index)"
   ]
  },
  {
   "cell_type": "code",
   "execution_count": 14,
   "metadata": {},
   "outputs": [],
   "source": [
    "def agg_mi(df):\n",
    "    columns = list(df.columns.levels[0])\n",
    "    out = []\n",
    "    for col in columns:\n",
    "        out.append(df[col].sum(1))\n",
    "    out = pd.concat(out, axis=1)\n",
    "    out.columns = columns\n",
    "    return out\n",
    "\n",
    "\n",
    "mi_pred_df = agg_mi(pred_df)\n",
    "mi_targ_df = agg_mi(targ_df)\n",
    "calib_mi_pred_df = agg_mi(calib_pred_df)"
   ]
  },
  {
   "cell_type": "code",
   "execution_count": 15,
   "metadata": {},
   "outputs": [],
   "source": [
    "# target predictions\n",
    "target_prediction = mi_targ_df.idxmax(1)\n",
    "\n",
    "# Method 1 - argmax prediction\n",
    "argmax_prediction = pred_df.idxmax(1).str[0]\n",
    "\n",
    "# Method 2 - argmax of predictions sum\n",
    "sum_prediction = mi_pred_df.idxmax(1)\n",
    "\n",
    "# Method 3 - weighted Method 2\n",
    "weighted_prediction = (mi_pred_df * [0.1**2, 1.0]).idxmax(1)\n",
    "\n",
    "# Method 1 (TS) - calibrated argmax prediction\n",
    "calib_argmax_prediction = calib_pred_df.idxmax(1).str[0]\n",
    "\n",
    "# Method 2 (TS) - calibrated argmax of predictions sum\n",
    "calib_sum_prediction = calib_mi_pred_df.idxmax(1)\n",
    "\n",
    "# Method 3 (TS) - calibrated weighted Method2'\n",
    "calib_weighted_prediction = (calib_mi_pred_df * [0.1**2, 1.0]).idxmax(1)"
   ]
  },
  {
   "cell_type": "code",
   "execution_count": 16,
   "metadata": {},
   "outputs": [],
   "source": [
    "def classification_scores(targ, pred, labels):\n",
    "    from sklearn.metrics import (accuracy_score, precision_score, recall_score,\n",
    "                                 f1_score)\n",
    "    scores = {\n",
    "        'accuracy': accuracy_score(targ, pred),\n",
    "        'precision': precision_score(targ, pred, labels=labels, pos_label=labels[1]),\n",
    "        'recall': recall_score(targ, pred, labels=labels, pos_label=labels[1]),\n",
    "        'f1-score': f1_score(targ, pred, labels=labels, pos_label=labels[1])}\n",
    "    return scores\n",
    "\n",
    "\n",
    "def get_cm(targ, pred, labels): \n",
    "    from sklearn.metrics import confusion_matrix\n",
    "\n",
    "    cm = confusion_matrix(targ, pred, labels=labels)\n",
    "    cm = pd.DataFrame(cm, columns=labels, index=labels)\n",
    "    cm = cm.rename(columns=lambda x: f'Predicted - {x}', index=lambda x: f'Target - {x}')\n",
    "    cm = cm.loc[::-1, ::-1]\n",
    "\n",
    "    scores = classification_scores(targ, pred, labels)\n",
    "    print(f'accuracy: {scores[\"accuracy\"]:.3f}')\n",
    "    print(f'precision: {scores[\"precision\"]:.3f}')\n",
    "    print(f'recall: {scores[\"recall\"]:.3f}')\n",
    "    print(f'f1-score: {scores[\"f1-score\"]:.3f}')\n",
    "\n",
    "    return cm, scores"
   ]
  },
  {
   "cell_type": "code",
   "execution_count": null,
   "metadata": {},
   "outputs": [],
   "source": []
  },
  {
   "cell_type": "markdown",
   "metadata": {},
   "source": [
    "### Method 1"
   ]
  },
  {
   "cell_type": "code",
   "execution_count": 17,
   "metadata": {},
   "outputs": [
    {
     "name": "stdout",
     "output_type": "stream",
     "text": [
      "accuracy: 0.986\n",
      "precision: 0.968\n",
      "recall: 0.967\n",
      "f1-score: 0.967\n"
     ]
    },
    {
     "data": {
      "text/html": [
       "<div>\n",
       "<style scoped>\n",
       "    .dataframe tbody tr th:only-of-type {\n",
       "        vertical-align: middle;\n",
       "    }\n",
       "\n",
       "    .dataframe tbody tr th {\n",
       "        vertical-align: top;\n",
       "    }\n",
       "\n",
       "    .dataframe thead th {\n",
       "        text-align: right;\n",
       "    }\n",
       "</style>\n",
       "<table border=\"1\" class=\"dataframe\">\n",
       "  <thead>\n",
       "    <tr style=\"text-align: right;\">\n",
       "      <th></th>\n",
       "      <th>Predicted - Venomous</th>\n",
       "      <th>Predicted - Non-venomous</th>\n",
       "    </tr>\n",
       "  </thead>\n",
       "  <tbody>\n",
       "    <tr>\n",
       "      <th>Target - Venomous</th>\n",
       "      <td>4934</td>\n",
       "      <td>171</td>\n",
       "    </tr>\n",
       "    <tr>\n",
       "      <th>Target - Non-venomous</th>\n",
       "      <td>162</td>\n",
       "      <td>18960</td>\n",
       "    </tr>\n",
       "  </tbody>\n",
       "</table>\n",
       "</div>"
      ],
      "text/plain": [
       "                       Predicted - Venomous  Predicted - Non-venomous\n",
       "Target - Venomous                      4934                       171\n",
       "Target - Non-venomous                   162                     18960"
      ]
     },
     "execution_count": 17,
     "metadata": {},
     "output_type": "execute_result"
    }
   ],
   "source": [
    "cm_1, scores_1 = get_cm(target_prediction, argmax_prediction, labels=mi_targ_df.columns)\n",
    "cm_1"
   ]
  },
  {
   "cell_type": "markdown",
   "metadata": {},
   "source": [
    "### Method 2"
   ]
  },
  {
   "cell_type": "code",
   "execution_count": 18,
   "metadata": {},
   "outputs": [
    {
     "name": "stdout",
     "output_type": "stream",
     "text": [
      "accuracy: 0.988\n",
      "precision: 0.978\n",
      "recall: 0.966\n",
      "f1-score: 0.972\n"
     ]
    },
    {
     "data": {
      "text/html": [
       "<div>\n",
       "<style scoped>\n",
       "    .dataframe tbody tr th:only-of-type {\n",
       "        vertical-align: middle;\n",
       "    }\n",
       "\n",
       "    .dataframe tbody tr th {\n",
       "        vertical-align: top;\n",
       "    }\n",
       "\n",
       "    .dataframe thead th {\n",
       "        text-align: right;\n",
       "    }\n",
       "</style>\n",
       "<table border=\"1\" class=\"dataframe\">\n",
       "  <thead>\n",
       "    <tr style=\"text-align: right;\">\n",
       "      <th></th>\n",
       "      <th>Predicted - Venomous</th>\n",
       "      <th>Predicted - Non-venomous</th>\n",
       "    </tr>\n",
       "  </thead>\n",
       "  <tbody>\n",
       "    <tr>\n",
       "      <th>Target - Venomous</th>\n",
       "      <td>4930</td>\n",
       "      <td>175</td>\n",
       "    </tr>\n",
       "    <tr>\n",
       "      <th>Target - Non-venomous</th>\n",
       "      <td>113</td>\n",
       "      <td>19009</td>\n",
       "    </tr>\n",
       "  </tbody>\n",
       "</table>\n",
       "</div>"
      ],
      "text/plain": [
       "                       Predicted - Venomous  Predicted - Non-venomous\n",
       "Target - Venomous                      4930                       175\n",
       "Target - Non-venomous                   113                     19009"
      ]
     },
     "execution_count": 18,
     "metadata": {},
     "output_type": "execute_result"
    }
   ],
   "source": [
    "cm_2, scores_2 = get_cm(target_prediction, sum_prediction, labels=mi_targ_df.columns)\n",
    "cm_2"
   ]
  },
  {
   "cell_type": "markdown",
   "metadata": {},
   "source": [
    "### Method 3"
   ]
  },
  {
   "cell_type": "code",
   "execution_count": 19,
   "metadata": {},
   "outputs": [
    {
     "name": "stdout",
     "output_type": "stream",
     "text": [
      "accuracy: 0.964\n",
      "precision: 0.859\n",
      "recall: 0.992\n",
      "f1-score: 0.921\n"
     ]
    },
    {
     "data": {
      "text/html": [
       "<div>\n",
       "<style scoped>\n",
       "    .dataframe tbody tr th:only-of-type {\n",
       "        vertical-align: middle;\n",
       "    }\n",
       "\n",
       "    .dataframe tbody tr th {\n",
       "        vertical-align: top;\n",
       "    }\n",
       "\n",
       "    .dataframe thead th {\n",
       "        text-align: right;\n",
       "    }\n",
       "</style>\n",
       "<table border=\"1\" class=\"dataframe\">\n",
       "  <thead>\n",
       "    <tr style=\"text-align: right;\">\n",
       "      <th></th>\n",
       "      <th>Predicted - Venomous</th>\n",
       "      <th>Predicted - Non-venomous</th>\n",
       "    </tr>\n",
       "  </thead>\n",
       "  <tbody>\n",
       "    <tr>\n",
       "      <th>Target - Venomous</th>\n",
       "      <td>5064</td>\n",
       "      <td>41</td>\n",
       "    </tr>\n",
       "    <tr>\n",
       "      <th>Target - Non-venomous</th>\n",
       "      <td>832</td>\n",
       "      <td>18290</td>\n",
       "    </tr>\n",
       "  </tbody>\n",
       "</table>\n",
       "</div>"
      ],
      "text/plain": [
       "                       Predicted - Venomous  Predicted - Non-venomous\n",
       "Target - Venomous                      5064                        41\n",
       "Target - Non-venomous                   832                     18290"
      ]
     },
     "execution_count": 19,
     "metadata": {},
     "output_type": "execute_result"
    }
   ],
   "source": [
    "cm_3, scores_3 = get_cm(target_prediction, weighted_prediction, labels=mi_targ_df.columns)\n",
    "cm_3"
   ]
  },
  {
   "cell_type": "markdown",
   "metadata": {},
   "source": [
    "### Method 1 (TS)"
   ]
  },
  {
   "cell_type": "code",
   "execution_count": 20,
   "metadata": {},
   "outputs": [
    {
     "name": "stdout",
     "output_type": "stream",
     "text": [
      "accuracy: 0.986\n",
      "precision: 0.968\n",
      "recall: 0.967\n",
      "f1-score: 0.967\n"
     ]
    },
    {
     "data": {
      "text/html": [
       "<div>\n",
       "<style scoped>\n",
       "    .dataframe tbody tr th:only-of-type {\n",
       "        vertical-align: middle;\n",
       "    }\n",
       "\n",
       "    .dataframe tbody tr th {\n",
       "        vertical-align: top;\n",
       "    }\n",
       "\n",
       "    .dataframe thead th {\n",
       "        text-align: right;\n",
       "    }\n",
       "</style>\n",
       "<table border=\"1\" class=\"dataframe\">\n",
       "  <thead>\n",
       "    <tr style=\"text-align: right;\">\n",
       "      <th></th>\n",
       "      <th>Predicted - Venomous</th>\n",
       "      <th>Predicted - Non-venomous</th>\n",
       "    </tr>\n",
       "  </thead>\n",
       "  <tbody>\n",
       "    <tr>\n",
       "      <th>Target - Venomous</th>\n",
       "      <td>4934</td>\n",
       "      <td>171</td>\n",
       "    </tr>\n",
       "    <tr>\n",
       "      <th>Target - Non-venomous</th>\n",
       "      <td>162</td>\n",
       "      <td>18960</td>\n",
       "    </tr>\n",
       "  </tbody>\n",
       "</table>\n",
       "</div>"
      ],
      "text/plain": [
       "                       Predicted - Venomous  Predicted - Non-venomous\n",
       "Target - Venomous                      4934                       171\n",
       "Target - Non-venomous                   162                     18960"
      ]
     },
     "execution_count": 20,
     "metadata": {},
     "output_type": "execute_result"
    }
   ],
   "source": [
    "calib_cm_1, calib_scores_1 = get_cm(target_prediction, calib_argmax_prediction, labels=mi_targ_df.columns)\n",
    "calib_cm_1"
   ]
  },
  {
   "cell_type": "markdown",
   "metadata": {},
   "source": [
    "### Method 2 (TS)"
   ]
  },
  {
   "cell_type": "code",
   "execution_count": 21,
   "metadata": {},
   "outputs": [
    {
     "name": "stdout",
     "output_type": "stream",
     "text": [
      "accuracy: 0.988\n",
      "precision: 0.979\n",
      "recall: 0.966\n",
      "f1-score: 0.972\n"
     ]
    },
    {
     "data": {
      "text/html": [
       "<div>\n",
       "<style scoped>\n",
       "    .dataframe tbody tr th:only-of-type {\n",
       "        vertical-align: middle;\n",
       "    }\n",
       "\n",
       "    .dataframe tbody tr th {\n",
       "        vertical-align: top;\n",
       "    }\n",
       "\n",
       "    .dataframe thead th {\n",
       "        text-align: right;\n",
       "    }\n",
       "</style>\n",
       "<table border=\"1\" class=\"dataframe\">\n",
       "  <thead>\n",
       "    <tr style=\"text-align: right;\">\n",
       "      <th></th>\n",
       "      <th>Predicted - Venomous</th>\n",
       "      <th>Predicted - Non-venomous</th>\n",
       "    </tr>\n",
       "  </thead>\n",
       "  <tbody>\n",
       "    <tr>\n",
       "      <th>Target - Venomous</th>\n",
       "      <td>4931</td>\n",
       "      <td>174</td>\n",
       "    </tr>\n",
       "    <tr>\n",
       "      <th>Target - Non-venomous</th>\n",
       "      <td>107</td>\n",
       "      <td>19015</td>\n",
       "    </tr>\n",
       "  </tbody>\n",
       "</table>\n",
       "</div>"
      ],
      "text/plain": [
       "                       Predicted - Venomous  Predicted - Non-venomous\n",
       "Target - Venomous                      4931                       174\n",
       "Target - Non-venomous                   107                     19015"
      ]
     },
     "execution_count": 21,
     "metadata": {},
     "output_type": "execute_result"
    }
   ],
   "source": [
    "calib_cm_2, calib_scores_2 = get_cm(target_prediction, calib_sum_prediction, labels=mi_targ_df.columns)\n",
    "calib_cm_2"
   ]
  },
  {
   "cell_type": "markdown",
   "metadata": {},
   "source": [
    "### Method 3 (TS)"
   ]
  },
  {
   "cell_type": "code",
   "execution_count": 22,
   "metadata": {},
   "outputs": [
    {
     "name": "stdout",
     "output_type": "stream",
     "text": [
      "accuracy: 0.954\n",
      "precision: 0.825\n",
      "recall: 0.993\n",
      "f1-score: 0.901\n"
     ]
    },
    {
     "data": {
      "text/html": [
       "<div>\n",
       "<style scoped>\n",
       "    .dataframe tbody tr th:only-of-type {\n",
       "        vertical-align: middle;\n",
       "    }\n",
       "\n",
       "    .dataframe tbody tr th {\n",
       "        vertical-align: top;\n",
       "    }\n",
       "\n",
       "    .dataframe thead th {\n",
       "        text-align: right;\n",
       "    }\n",
       "</style>\n",
       "<table border=\"1\" class=\"dataframe\">\n",
       "  <thead>\n",
       "    <tr style=\"text-align: right;\">\n",
       "      <th></th>\n",
       "      <th>Predicted - Venomous</th>\n",
       "      <th>Predicted - Non-venomous</th>\n",
       "    </tr>\n",
       "  </thead>\n",
       "  <tbody>\n",
       "    <tr>\n",
       "      <th>Target - Venomous</th>\n",
       "      <td>5067</td>\n",
       "      <td>38</td>\n",
       "    </tr>\n",
       "    <tr>\n",
       "      <th>Target - Non-venomous</th>\n",
       "      <td>1072</td>\n",
       "      <td>18050</td>\n",
       "    </tr>\n",
       "  </tbody>\n",
       "</table>\n",
       "</div>"
      ],
      "text/plain": [
       "                       Predicted - Venomous  Predicted - Non-venomous\n",
       "Target - Venomous                      5067                        38\n",
       "Target - Non-venomous                  1072                     18050"
      ]
     },
     "execution_count": 22,
     "metadata": {},
     "output_type": "execute_result"
    }
   ],
   "source": [
    "calib_cm_3, calib_scores_3 = get_cm(target_prediction, calib_weighted_prediction, labels=mi_targ_df.columns)\n",
    "calib_cm_3"
   ]
  },
  {
   "cell_type": "markdown",
   "metadata": {},
   "source": [
    "## Summarize the Results"
   ]
  },
  {
   "cell_type": "code",
   "execution_count": 23,
   "metadata": {},
   "outputs": [
    {
     "data": {
      "image/png": "[encoded data removed]",
      "text/plain": [
       "<Figure size 1296x576 with 6 Axes>"
      ]
     },
     "metadata": {
      "needs_background": "light"
     },
     "output_type": "display_data"
    }
   ],
   "source": [
    "import seaborn as sns\n",
    "\n",
    "from src.utils import visualization as viz\n",
    "\n",
    "\n",
    "def heatmap(df, title=None, ax=None):\n",
    "    ax = sns.heatmap(df, cmap='Blues', annot=True, fmt='d', cbar=False, ax=ax)\n",
    "    if title is not None:\n",
    "        ax.set(title=title)\n",
    "    return ax\n",
    "\n",
    "fig, axs = viz.create_fig(ncols=3, nrows=2, colsize=6, rowsize=4)\n",
    "cms = {\n",
    "    'Method 1': cm_1,\n",
    "    'Method 2': cm_2,\n",
    "    'Method 3': cm_3,\n",
    "    'Method 1 (TS)': calib_cm_1,\n",
    "    'Method 2 (TS)': calib_cm_2,\n",
    "    'Method 3 (TS)': calib_cm_3}\n",
    "for ax, (title, _cm) in zip(axs, cms.items()):\n",
    "    heatmap(_cm, title, ax=ax)\n",
    "    ax.set_xticklabels(ax.get_xticklabels(), rotation=0, ha='right')\n",
    "    ax.set_yticklabels(ax.get_yticklabels(), rotation=90, ha='right')\n",
    "plt.show()"
   ]
  },
  {
   "cell_type": "code",
   "execution_count": 24,
   "metadata": {},
   "outputs": [
    {
     "data": {
      "text/plain": [
       "{'Method 1': [[4934, 171], [162, 18960]],\n",
       " 'Method 2': [[4930, 175], [113, 19009]],\n",
       " 'Method 3': [[5064, 41], [832, 18290]],\n",
       " 'Method 1 (TS)': [[4934, 171], [162, 18960]],\n",
       " 'Method 2 (TS)': [[4931, 174], [107, 19015]],\n",
       " 'Method 3 (TS)': [[5067, 38], [1072, 18050]]}"
      ]
     },
     "execution_count": 24,
     "metadata": {},
     "output_type": "execute_result"
    }
   ],
   "source": [
    "{k: v.values.tolist() for k, v in cms.items()}"
   ]
  },
  {
   "cell_type": "code",
   "execution_count": 25,
   "metadata": {},
   "outputs": [
    {
     "data": {
      "text/html": [
       "<div>\n",
       "<style scoped>\n",
       "    .dataframe tbody tr th:only-of-type {\n",
       "        vertical-align: middle;\n",
       "    }\n",
       "\n",
       "    .dataframe tbody tr th {\n",
       "        vertical-align: top;\n",
       "    }\n",
       "\n",
       "    .dataframe thead th {\n",
       "        text-align: right;\n",
       "    }\n",
       "</style>\n",
       "<table border=\"1\" class=\"dataframe\">\n",
       "  <thead>\n",
       "    <tr style=\"text-align: right;\">\n",
       "      <th></th>\n",
       "      <th>accuracy</th>\n",
       "      <th>precision</th>\n",
       "      <th>recall</th>\n",
       "      <th>f1-score</th>\n",
       "    </tr>\n",
       "  </thead>\n",
       "  <tbody>\n",
       "    <tr>\n",
       "      <th>Method 1</th>\n",
       "      <td>98.6</td>\n",
       "      <td>96.8</td>\n",
       "      <td>96.7</td>\n",
       "      <td>96.7</td>\n",
       "    </tr>\n",
       "    <tr>\n",
       "      <th>Method 2</th>\n",
       "      <td>98.8</td>\n",
       "      <td>97.8</td>\n",
       "      <td>96.6</td>\n",
       "      <td>97.2</td>\n",
       "    </tr>\n",
       "    <tr>\n",
       "      <th>Method 3</th>\n",
       "      <td>96.4</td>\n",
       "      <td>85.9</td>\n",
       "      <td>99.2</td>\n",
       "      <td>92.1</td>\n",
       "    </tr>\n",
       "    <tr>\n",
       "      <th>Method 1 (TS)</th>\n",
       "      <td>98.6</td>\n",
       "      <td>96.8</td>\n",
       "      <td>96.7</td>\n",
       "      <td>96.7</td>\n",
       "    </tr>\n",
       "    <tr>\n",
       "      <th>Method 2 (TS)</th>\n",
       "      <td>98.8</td>\n",
       "      <td>97.9</td>\n",
       "      <td>96.6</td>\n",
       "      <td>97.2</td>\n",
       "    </tr>\n",
       "    <tr>\n",
       "      <th>Method 3 (TS)</th>\n",
       "      <td>95.4</td>\n",
       "      <td>82.5</td>\n",
       "      <td>99.3</td>\n",
       "      <td>90.1</td>\n",
       "    </tr>\n",
       "  </tbody>\n",
       "</table>\n",
       "</div>"
      ],
      "text/plain": [
       "               accuracy  precision  recall  f1-score\n",
       "Method 1           98.6       96.8    96.7      96.7\n",
       "Method 2           98.8       97.8    96.6      97.2\n",
       "Method 3           96.4       85.9    99.2      92.1\n",
       "Method 1 (TS)      98.6       96.8    96.7      96.7\n",
       "Method 2 (TS)      98.8       97.9    96.6      97.2\n",
       "Method 3 (TS)      95.4       82.5    99.3      90.1"
      ]
     },
     "execution_count": 25,
     "metadata": {},
     "output_type": "execute_result"
    }
   ],
   "source": [
    "scores = {\n",
    "    'Method 1': scores_1,\n",
    "    'Method 2': scores_2,\n",
    "    'Method 3': scores_3,\n",
    "    'Method 1 (TS)': calib_scores_1,\n",
    "    'Method 2 (TS)': calib_scores_2,\n",
    "    'Method 3 (TS)': calib_scores_3}\n",
    "pd.DataFrame(scores).T.round(3) * 100"
   ]
  },
  {
   "cell_type": "code",
   "execution_count": null,
   "metadata": {},
   "outputs": [],
   "source": []
  }
 ],
 "metadata": {
  "kernelspec": {
   "display_name": "Python 3 (ipykernel)",
   "language": "python",
   "name": "python3"
  },
  "language_info": {
   "codemirror_mode": {
    "name": "ipython",
    "version": 3
   },
   "file_extension": ".py",
   "mimetype": "text/x-python",
   "name": "python",
   "nbconvert_exporter": "python",
   "pygments_lexer": "ipython3",
   "version": "3.8.8"
  }
 },
 "nbformat": 4,
 "nbformat_minor": 4
}
